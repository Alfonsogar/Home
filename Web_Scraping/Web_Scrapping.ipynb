{
 "cells": [
  {
   "cell_type": "markdown",
   "metadata": {},
   "source": [
    "# Web Scrapping"
   ]
  },
  {
   "cell_type": "markdown",
   "metadata": {},
   "source": [
    "---"
   ]
  },
  {
   "cell_type": "markdown",
   "metadata": {},
   "source": [
    "### We are now to get a bit of experience using python for web scrapping."
   ]
  },
  {
   "cell_type": "markdown",
   "metadata": {},
   "source": [
    "#### The idea of this code is to get all the post that appears on the webpage \"fuckmylife\" and put them on a Dataset with its posting date. On another project we might analyze this test in order to know how the people who post on this web feels bases on its words."
   ]
  },
  {
   "cell_type": "code",
   "execution_count": 1,
   "metadata": {},
   "outputs": [],
   "source": [
    "import requests"
   ]
  },
  {
   "cell_type": "code",
   "execution_count": 5,
   "metadata": {},
   "outputs": [
    {
     "name": "stdout",
     "output_type": "stream",
     "text": [
      "<!DOCTYPE \n"
     ]
    }
   ],
   "source": [
    "#First we are going to get the html source of the main webpage\n",
    "r = requests.get(\"http://www.fmylife.com/\")\n",
    "print(r.text[0:10])"
   ]
  },
  {
   "cell_type": "markdown",
   "metadata": {},
   "source": [
    "### Parsing the html file to get info out of it:"
   ]
  },
  {
   "cell_type": "code",
   "execution_count": 11,
   "metadata": {},
   "outputs": [],
   "source": [
    "# We are going to be using beautiful soup package:\n",
    "from bs4 import BeautifulSoup as bs"
   ]
  },
  {
   "cell_type": "code",
   "execution_count": 12,
   "metadata": {},
   "outputs": [],
   "source": [
    "# We will start instanciating and type soup object (we will tell him to parse it based on html format:\n",
    "soup = bs(r.text, \"html.parser\")"
   ]
  },
  {
   "cell_type": "code",
   "execution_count": null,
   "metadata": {},
   "outputs": [],
   "source": [
    "# If we analyze the text we can realize that every post follows this pattern:\n",
    "\n",
    "<p class=\"block hidden-xs\">\n",
    "<a href=\"/article/today-post_we_want_to_get.html\">\n",
    "Today, text_we_want_to_get. FML\n",
    "</a>\n",
    "</p>\n",
    "\n",
    "# Which means that we would need to get just the text within the p class and /p"
   ]
  },
  {
   "cell_type": "code",
   "execution_count": 15,
   "metadata": {},
   "outputs": [
    {
     "data": {
      "text/plain": [
       "bs4.element.ResultSet"
      ]
     },
     "execution_count": 15,
     "metadata": {},
     "output_type": "execute_result"
    }
   ],
   "source": [
    "#Vamos a coger todo el texto que haya dentro de la clase P block hidden-xs y nos lo meterá en una lista\n",
    "raw_result = soup.find_all('p', attrs= {'class':\"block hidden-xs\"})\n",
    "type(raw_result) #actua como lista"
   ]
  },
  {
   "cell_type": "markdown",
   "metadata": {},
   "source": [
    "### Arranging the data"
   ]
  },
  {
   "cell_type": "code",
   "execution_count": 19,
   "metadata": {},
   "outputs": [
    {
     "data": {
      "text/plain": [
       "[<p class=\"block hidden-xs\">\n",
       " <a href=\"/article/today-today-my-wife-asked-my-to-back-up-all-of-the-photos-and-videos-from-our-desktop-computer-i_260016.html\">\n",
       " Today, my wife asked me to back up all the photos and videos from our desktop computer so I synced it with my Google account. Every graphic picture and video my wife and I have ever exchanged was sent to all 3 of our children's tablets. My daughter cried all night. FML\n",
       " </a>\n",
       " </p>, <p class=\"block hidden-xs\">\n",
       " <a href=\"/article/today-my-dad-walked-in-on-me-jerking-off-it-wouldn-t-have-been-so-bad-if-i-wasn-t-skyping-my-b_260481.html\">\n",
       " Today, my dad walked in on me jerking off. It wouldn’t have been so bad if I wasn’t Skyping my boyfriend, while both of us were totally naked. I had just told him to “put those toes in your mouth and I’ll cum like you’ve never seen before”. FML\n",
       " </a>\n",
       " </p>]"
      ]
     },
     "execution_count": 19,
     "metadata": {},
     "output_type": "execute_result"
    }
   ],
   "source": [
    "raw_result[0:2]"
   ]
  },
  {
   "cell_type": "code",
   "execution_count": 53,
   "metadata": {},
   "outputs": [
    {
     "data": {
      "text/plain": [
       "\"Today, my wife asked me to back up all the photos and videos from our desktop computer so I synced it with my Google account. Every graphic picture and video my wife and I have ever exchanged was sent to all 3 of our children's tablets. My daughter cried all night. FML\""
      ]
     },
     "execution_count": 53,
     "metadata": {},
     "output_type": "execute_result"
    }
   ],
   "source": [
    "#Let's trimmer it so we can obtain just the text we need.\n",
    "raw_result[0].contents[1].text[1:-1]"
   ]
  },
  {
   "cell_type": "code",
   "execution_count": 58,
   "metadata": {},
   "outputs": [
    {
     "data": {
      "text/plain": [
       "[\"Today, my wife asked me to back up all the photos and videos from our desktop computer so I synced it with my Google account. Every graphic picture and video my wife and I have ever exchanged was sent to all 3 of our children's tablets. My daughter cried all night. FML\",\n",
       " 'Today, my dad walked in on me jerking off. It wouldn’t have been so bad if I wasn’t Skyping my boyfriend, while both of us were totally naked. I had just told him to “put those toes in your mouth and I’ll cum like you’ve never seen before”. FML',\n",
       " \"Today, I gave my mom an extra pillow since the ones in the guest room were too flat and hurt her neck. Hours later, I remembered that I'd stashed my vibrator in that pillowcase during a romantic camping trip with my husband. She found it. FML\",\n",
       " 'Today, after working on my novel for two years, I found out that another book has recently been published with an almost identical plot. I was going to submit it to a publisher in two days. FML',\n",
       " 'Today, I was suspended for \"selling drugs on campus\". I was trying to give the school nurse approved medication for my severe epilepsy. I\\'m suspended for 3 weeks and have to go to a drug seminar. FML',\n",
       " 'Today, my girlfriend asked if I could somehow get uncircumcised so I could add an inch to my length. FML',\n",
       " 'Today, I got a check for $100 for a random selecting at work. My boyfriend’s reaction? Light it on fire out of jealously. FML',\n",
       " \"Today, I finalized my new car purchase after three months on the job at a new company. Two hours later, I was informed that my position has been eliminated. I have two weeks to find a new job or I'm completely screwed. FML\",\n",
       " \"Today, I tried to propose to my girlfriend, but when I took out the ring it flew out of the box and disappeared. She's been crying for 3 hours and I'm down 2 grand. I still don't know what her answer is. FML\",\n",
       " \"Today, I finally felt better after having the flu for two weeks. I decided to do some much-needed cleaning that I hadn't been able to do while sick. I tripped over my rug and broke my ankle. FML\",\n",
       " 'Today, I accidentally sent a nude to my 10-year-old brother. FML',\n",
       " 'Today, I apologized to my boyfriend because I\\'d been rather snappy with him the last few days due to stress. His response? \"It\\'s okay baby, I\\'m used to you being a bitch.\" FML',\n",
       " \"Today, I slept in my boyfriend's room for the first time. I also wet the bed for the first time in a decade. FML\",\n",
       " 'Today, after drinking myself to an oblivion, I awoke with a massive hangover. I didn’t want to go to work, but every excuse I came up with in my head screamed of alcoholics. When I arrived, my boss asked me why I was there. It was my day off. FML',\n",
       " 'Today, I was walking the boardwalk when I felt a strange sensation between my legs as I sneezed. My tampon shot out like a cork and rolled to the side of my granny panties. I had to waddle like Yosemite Sam to the nearest potty. I was on a date. FML',\n",
       " 'Today, my fiancé asked his 13-year-old sister what role she wanted in our upcoming wedding. Her response was \"Saying I object!\" FML',\n",
       " 'Today, whilst cleaning the living room, I heard snickering coming from my bedroom. My two nephews had found my \"play cupboard\" and were blowing up condoms like balloons. FML',\n",
       " \"Today, my father told me that because of my 4.0 with all AP classes, I could choose where to eat tonight. My stepmother told him I wanted to eat at IKEA, of all places, because that's what she wanted. Guess who he believed, and guess where I am right now. FML\"]"
      ]
     },
     "execution_count": 58,
     "metadata": {},
     "output_type": "execute_result"
    }
   ],
   "source": [
    "result=[] #We will save all the post in this list\n",
    "\n",
    "# Let's automatize the process:\n",
    "for n in raw_result: #por cada uno de los tags de raw_results\n",
    "    temp = n.contents[1].text[1:-1]\n",
    "    result.append(temp)\n",
    "    \n",
    "result"
   ]
  },
  {
   "cell_type": "markdown",
   "metadata": {},
   "source": [
    "### Creating a dataset:"
   ]
  },
  {
   "cell_type": "code",
   "execution_count": 59,
   "metadata": {},
   "outputs": [],
   "source": [
    "import pandas as pd"
   ]
  },
  {
   "cell_type": "code",
   "execution_count": 61,
   "metadata": {},
   "outputs": [],
   "source": [
    "df = pd.DataFrame(result, columns= [\"FML_Posts\"])"
   ]
  },
  {
   "cell_type": "code",
   "execution_count": 64,
   "metadata": {},
   "outputs": [
    {
     "data": {
      "text/html": [
       "<div>\n",
       "<style scoped>\n",
       "    .dataframe tbody tr th:only-of-type {\n",
       "        vertical-align: middle;\n",
       "    }\n",
       "\n",
       "    .dataframe tbody tr th {\n",
       "        vertical-align: top;\n",
       "    }\n",
       "\n",
       "    .dataframe thead th {\n",
       "        text-align: right;\n",
       "    }\n",
       "</style>\n",
       "<table border=\"1\" class=\"dataframe\">\n",
       "  <thead>\n",
       "    <tr style=\"text-align: right;\">\n",
       "      <th></th>\n",
       "      <th>FML_Posts</th>\n",
       "    </tr>\n",
       "  </thead>\n",
       "  <tbody>\n",
       "    <tr>\n",
       "      <th>0</th>\n",
       "      <td>Today, my wife asked me to back up all the pho...</td>\n",
       "    </tr>\n",
       "    <tr>\n",
       "      <th>1</th>\n",
       "      <td>Today, my dad walked in on me jerking off. It ...</td>\n",
       "    </tr>\n",
       "    <tr>\n",
       "      <th>2</th>\n",
       "      <td>Today, I gave my mom an extra pillow since the...</td>\n",
       "    </tr>\n",
       "    <tr>\n",
       "      <th>3</th>\n",
       "      <td>Today, after working on my novel for two years...</td>\n",
       "    </tr>\n",
       "    <tr>\n",
       "      <th>4</th>\n",
       "      <td>Today, I was suspended for \"selling drugs on c...</td>\n",
       "    </tr>\n",
       "  </tbody>\n",
       "</table>\n",
       "</div>"
      ],
      "text/plain": [
       "                                           FML_Posts\n",
       "0  Today, my wife asked me to back up all the pho...\n",
       "1  Today, my dad walked in on me jerking off. It ...\n",
       "2  Today, I gave my mom an extra pillow since the...\n",
       "3  Today, after working on my novel for two years...\n",
       "4  Today, I was suspended for \"selling drugs on c..."
      ]
     },
     "execution_count": 64,
     "metadata": {},
     "output_type": "execute_result"
    }
   ],
   "source": [
    "df.head()"
   ]
  },
  {
   "cell_type": "markdown",
   "metadata": {},
   "source": [
    "### And to finish it export it to a csv"
   ]
  },
  {
   "cell_type": "code",
   "execution_count": 69,
   "metadata": {},
   "outputs": [],
   "source": [
    "df.to_csv('~/Master_DS/Repositorio_Github_Home/Web_Scraping/FML_web_scrapping', index=False, encoding='utf-8')"
   ]
  },
  {
   "cell_type": "code",
   "execution_count": 68,
   "metadata": {},
   "outputs": [
    {
     "name": "stdout",
     "output_type": "stream",
     "text": [
      "anaconda3\t  Documents\t     Master_DS\trtl8723be_wifi\tVideos\r\n",
      "AnacondaProjects  Downloads\t     Music\tsketchbook\r\n",
      "Coding\t\t  FML_web_scrapping  Pictures\tTemplates\r\n",
      "Desktop\t\t  Libros-ebook\t     Public\tUntitled.ipynb\r\n"
     ]
    }
   ],
   "source": [
    "!ls"
   ]
  }
 ],
 "metadata": {
  "kernelspec": {
   "display_name": "Python 3",
   "language": "python",
   "name": "python3"
  },
  "language_info": {
   "codemirror_mode": {
    "name": "ipython",
    "version": 3
   },
   "file_extension": ".py",
   "mimetype": "text/x-python",
   "name": "python",
   "nbconvert_exporter": "python",
   "pygments_lexer": "ipython3",
   "version": "3.6.4"
  }
 },
 "nbformat": 4,
 "nbformat_minor": 2
}
